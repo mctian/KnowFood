{
 "cells": [
  {
   "cell_type": "code",
   "execution_count": 55,
   "metadata": {},
   "outputs": [
    {
     "data": {
      "text/plain": [
       "(2, 3, 4, 5)"
      ]
     },
     "execution_count": 55,
     "metadata": {},
     "output_type": "execute_result"
    }
   ],
   "source": [
    "import numpy as np\n",
    "import pandas as pd\n",
    "from scipy.spatial import distance\n",
    "from itertools import combinations\n",
    "\n",
    "data = pd.read_csv(\"/Users/harry/Downloads/out.csv\", encoding = 'latin-1')\n",
    "h = 160\n",
    "w = 80\n",
    "g = \"Male\"\n",
    "age = 18\n",
    "activity = 3\n",
    "\n",
    "if g is \"Male\":\n",
    "    calories = (10*w+6.25*h-5*age+5)*1.2+300*activity\n",
    "else:\n",
    "    calories = (10*w+6.25*h-5*age-161)*1.2+300*activity\n",
    "\n",
    "tFat = 60*calories/2000\n",
    "tCholesterol = 290*calories/2000\n",
    "tSodium = 2350*calories/2000\n",
    "tCarbs = 320*calories/2000\n",
    "tProtein = 0.8*w\n",
    "tMatrix = np.array([tFat, tCholesterol, tSodium, tCarbs, tProtein])\n",
    "\n",
    "rows = np.arange(6)\n",
    "nums = np.array([0,0,0,0])\n",
    "cases = nums\n",
    "\n",
    "ideal = np.array([0,0,0,0])\n",
    "idealFoods = np.array([0,0,0,0])\n",
    "\n",
    "\n",
    "for p in combinations(rows, 4):\n",
    "    minimum = float('inf')\n",
    "    row_0 = data.iloc[p[0]]\n",
    "    calories_0 = (int)(row_0['Calories'])\n",
    "    row_1 = data.iloc[p[1]]\n",
    "    calories_1 = (int)(row_1['Calories'])\n",
    "    row_2 = data.iloc[p[2]]\n",
    "    calories_2 = (int)(row_2['Calories'])\n",
    "    row_3 = data.iloc[p[3]]\n",
    "    calories_3 = (int)(row_3['Calories'])\n",
    "    while nums[0]*calories_0 < calories:\n",
    "        nums[0] = nums[0]+1\n",
    "        while nums[0]*calories_0 + nums[1]*calories_1 < calories:\n",
    "            nums[1] = nums[1]+1\n",
    "            while nums[0]*calories_0 + nums[1]*calories_1 + nums[2]*calories_2< calories:\n",
    "                nums[2] = nums[2]+1\n",
    "                while nums[0]*calories_0 + nums[1]*calories_1 + nums[2]*calories_2 + nums[3]*calories_3 < calories:\n",
    "                    nums[3] = nums[3]+1\n",
    "                cases = np.vstack((cases, nums))\n",
    "                nums[3] = 0\n",
    "            cases = np.vstack((cases, nums))\n",
    "            nums[2] = 0\n",
    "        cases = np.vstack((cases, nums))\n",
    "        nums[1] = 0\n",
    "    cases = np.vstack((cases, nums))\n",
    "    nums[0] = 0\n",
    "    oFat_0 = (float)(row_0['Fat'])\n",
    "    oFat_1 = (float)(row_1['Fat'])\n",
    "    oFat_2 = (float)(row_2['Fat'])\n",
    "    oFat_3 = (float)(row_3['Fat'])\n",
    "    oCholesterol_0 = (float)(row_0['Cholesterol'])\n",
    "    oCholesterol_1 = (float)(row_1['Cholesterol'])\n",
    "    oCholesterol_2 = (float)(row_2['Cholesterol'])\n",
    "    oCholesterol_3 = (float)(row_3['Cholesterol'])\n",
    "    oSodium_0 = (float)(row_0['Sodium'])\n",
    "    oSodium_1 = (float)(row_1['Sodium'])\n",
    "    oSodium_2 = (float)(row_2['Sodium'])\n",
    "    oSodium_3 = (float)(row_3['Sodium'])\n",
    "    oCarbs_0 = (float)(row_0['Carbs'])\n",
    "    oCarbs_1 = (float)(row_1['Carbs'])\n",
    "    oCarbs_2 = (float)(row_2['Carbs'])\n",
    "    oCarbs_3 = (float)(row_3['Carbs'])\n",
    "    oProtein_0 = (float)(row_0['Protein'])\n",
    "    oProtein_1 = (float)(row_1['Protein'])\n",
    "    oProtein_2 = (float)(row_2['Protein'])\n",
    "    oProtein_3 = (float)(row_3['Protein'])\n",
    "    for i in range(0, cases.shape[0]-1):\n",
    "        oMatrix = np.array([oFat_0*cases[i, 0]+oFat_1*cases[i, 1]+oFat_2*cases[i, 2]+oFat_3*cases[i, 3],\n",
    "                           oCholesterol_0*cases[i, 0]+oCholesterol_1*cases[i, 1]+oCholesterol_2*cases[i, 2]+oCholesterol_3*cases[i, 3],\n",
    "                           oSodium_0*cases[i, 0]+oSodium_1*cases[i, 1]+oSodium_2*cases[i, 2]+oSodium_3*cases[i, 3],\n",
    "                           oCarbs_0*cases[i, 0]+oCarbs_1*cases[i, 1]+oCarbs_2*cases[i, 2]+oCarbs_3*cases[i, 3],\n",
    "                           oProtein_0*cases[i, 0]+oProtein_1*cases[i, 1]+oProtein_2*cases[i, 2]+oProtein_3*cases[i, 3]])\n",
    "        if distance.euclidean(tMatrix, oMatrix) < minimum:\n",
    "            minimum = distance.euclidean(tMatrix, oMatrix)\n",
    "            ideal = cases[i]\n",
    "            idealFoods = p\n",
    "idealFoods"
   ]
  },
  {
   "cell_type": "code",
   "execution_count": 64,
   "metadata": {},
   "outputs": [
    {
     "name": "stdout",
     "output_type": "stream",
     "text": [
      "['4', '6']\n"
     ]
    }
   ],
   "source": [
    "import re\n",
    "food1 = data.iloc[idealFoods[0]]\n",
    "food2 = data.iloc[idealFoods[1]]\n",
    "food3 = data.iloc[idealFoods[2]]\n",
    "food4 = data.iloc[idealFoods[3]]\n",
    "amount1 = re.findall(r'[\\d\\.\\d]+', food1['Serving Size'])\n",
    "amount2 = re.findall(r'[\\d\\.\\d]+', food2['Serving Size'])\n",
    "amount3 = re.findall(r'[\\d\\.\\d]+', food3['Serving Size'])\n",
    "amount4 = re.findall(r'[\\d\\.\\d]+', food4['Serving Size'])\n",
    "\n"
   ]
  },
  {
   "cell_type": "code",
   "execution_count": null,
   "metadata": {
    "collapsed": true
   },
   "outputs": [],
   "source": []
  }
 ],
 "metadata": {
  "kernelspec": {
   "display_name": "Python 3",
   "language": "python",
   "name": "python3"
  },
  "language_info": {
   "codemirror_mode": {
    "name": "ipython",
    "version": 3
   },
   "file_extension": ".py",
   "mimetype": "text/x-python",
   "name": "python",
   "nbconvert_exporter": "python",
   "pygments_lexer": "ipython3",
   "version": "3.6.1"
  }
 },
 "nbformat": 4,
 "nbformat_minor": 2
}
